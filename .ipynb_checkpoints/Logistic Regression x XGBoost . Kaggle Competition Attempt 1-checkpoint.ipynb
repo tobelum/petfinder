{
 "cells": [
  {
   "cell_type": "code",
   "execution_count": 248,
   "metadata": {},
   "outputs": [],
   "source": [
    "#import all necessary packages\n",
    "\n",
    "import pandas as pd\n",
    "import numpy as np\n",
    "import json\n",
    "import seaborn as sns\n",
    "import matplotlib.pyplot as plt\n",
    "from sklearn.feature_selection import RFE\n",
    "from sklearn.linear_model import LogisticRegression\n",
    "import statsmodels.api as sm\n",
    "from sklearn import metrics\n",
    "import hypertools as hyp\n",
    "from imblearn.over_sampling import SMOTE\n",
    "from xgboost import XGBClassifier"
   ]
  },
  {
   "cell_type": "code",
   "execution_count": 164,
   "metadata": {},
   "outputs": [],
   "source": [
    "pets = pd.read_csv('train.csv')\n",
    "pets2 = pd.read_csv('test.csv')\n",
    "petID = pets2.PetID"
   ]
  },
  {
   "cell_type": "markdown",
   "metadata": {},
   "source": [
    "### Add Create Necessary Functions"
   ]
  },
  {
   "cell_type": "markdown",
   "metadata": {},
   "source": [
    "#### Create New Column for Pure Bred (Values: 1 if pure bred, 0 if mixed breed."
   ]
  },
  {
   "cell_type": "markdown",
   "metadata": {},
   "source": [
    "#### Fetch sentiment analysis values from JSON files and append the values into new columns"
   ]
  },
  {
   "cell_type": "code",
   "execution_count": null,
   "metadata": {},
   "outputs": [],
   "source": [
    "def add_pure(dataframe):\n",
    "    #create new column and set values to 0 by default\n",
    "    dataframe['pure_bred'] = 0\n",
    "\n",
    "    #For loop to check if pet is pure bred and change the values accordingly\n",
    "    for i in range(0,(len(pets))):\n",
    "        try:\n",
    "            if dataframe.Breed2[i] == 0 or (dataframe.Breed1[i] == dataframe.Breed2[i]):\n",
    "                dataframe.iat[i, dataframe.columns.get_loc('pure_bred')] = 1\n",
    "        except:\n",
    "            continue\n",
    "    return (dataframe)\n",
    "    #pets.pure_bred.value_counts(dropna = False)\n",
    "#'../input/test/test_sentiment/'\n",
    "def add_sentiments(dataframe, path):\n",
    "    dataframe['sentiment_score'] = float(0)\n",
    "    dataframe['sentiment_magnitude'] = float(0)\n",
    "\n",
    "    for i in range(0,(len(dataframe))):\n",
    "        filename = path + dataframe.PetID[i] + '.json'\n",
    "        try:\n",
    "            with open(filename, 'r') as f:\n",
    "                sentiments = json.load(f)\n",
    "                dataframe.iat[i, dataframe.columns.get_loc('sentiment_score')] = sentiments['documentSentiment']['score']\n",
    "                dataframe.iat[i, dataframe.columns.get_loc('sentiment_magnitude')] = sentiments['documentSentiment']['magnitude']\n",
    "        except FileNotFoundError:\n",
    "            continue\n",
    "    return (dataframe)\n",
    "    #dataframe.sentiment_score.value_counts(dropna = False)\n",
    "    \n",
    "def create_cats(dataframe):\n",
    "    for i in dataframe.columns:\n",
    "        #if i is not dataframe.columns[2] and i is not dataframe.columns[10] and i is not dataframe.columns[15] and i is not dataframe.columns[18] and i is not dataframe.columns[22] and i is not dataframe.columns[25] and i is not dataframe.columns[26]:\n",
    "        if i not in ['Age', 'FurLength', 'Quantity', 'Fee', 'VideoAmt', 'PhotoAmt', 'sentiment_score', 'sentiment_magnitude']:\n",
    "            dataframe[i] = dataframe[i].astype('category')\n",
    "\n",
    "def sentiment_to_float(dataframe):\n",
    "    dataframe.sentiment_score = dataframe.sentiment_score.astype(float)\n",
    "    dataframe.sentiment_magnitude = dataframe.sentiment_magnitude.astype(float)\n",
    "    \n",
    "def fillna(dataframe):\n",
    "    for i in dataframe.columns:\n",
    "        if i not in ['Name', 'Description', 'PetID', 'RescuerID']:\n",
    "            if i not in ['Age', 'Quantity', 'PhotoAmt', 'VideoAmt', 'sentiment_score', 'sentiment_magnitude', 'Fee']:\n",
    "                dataframe[i].fillna(dataframe[i].mode()[0], inplace = True)\n",
    "            else:\n",
    "                dataframe[i].fillna(dataframe[i].mean(), inplace = True)\n",
    "\n",
    "def find_weights(dataframe): \n",
    "    weights = []\n",
    "    count = 0\n",
    "    for i in range(0,5):\n",
    "        count = 0\n",
    "        weight = 0.0\n",
    "        for j in dataframe.AdoptionSpeed:\n",
    "            if j == i:\n",
    "                count += 1\n",
    "        weight = count/len(dataframe.AdoptionSpeed)\n",
    "        weights.append(weight)\n",
    "    return weights"
   ]
  },
  {
   "cell_type": "code",
   "execution_count": null,
   "metadata": {},
   "outputs": [],
   "source": [
    "add_pure(pets)\n",
    "add_pure(pets2)\n",
    "add_sentiments(pets, '../input/train_sentiment/')\n",
    "add_sentiments(pets2, '../input/test_sentiment/')\n",
    "sentiment_to_float(pets)\n",
    "sentiment_to_float(pets2)\n",
    "fillna(pets)\n",
    "fillna(pets2)\n",
    "create_cats(pets)\n",
    "create_cats(pets2)"
   ]
  },
  {
   "cell_type": "code",
   "execution_count": null,
   "metadata": {},
   "outputs": [],
   "source": [
    "fillna(pets)\n",
    "fillna(pets2)\n",
    "create_cats(pets)\n",
    "create_cats(pets2)\n",
    "\n",
    "pets = pets.drop(['Name', 'PetID', 'Description','RescuerID'], axis = 1)\n",
    "pets = pets.dropna()\n",
    "\n",
    "pets2 = pets2.drop(['Name', 'PetID', 'Description','RescuerID'], axis = 1)\n",
    "pets2 = pets2.dropna()"
   ]
  },
  {
   "cell_type": "code",
   "execution_count": null,
   "metadata": {},
   "outputs": [],
   "source": [
    "sns.countplot(x='AdoptionSpeed', data = pets)"
   ]
  },
  {
   "cell_type": "code",
   "execution_count": null,
   "metadata": {},
   "outputs": [],
   "source": [
    "pets.groupby('AdoptionSpeed').mean()"
   ]
  },
  {
   "cell_type": "markdown",
   "metadata": {},
   "source": [
    "### Perform Best Subset Selection"
   ]
  },
  {
   "cell_type": "code",
   "execution_count": null,
   "metadata": {},
   "outputs": [],
   "source": [
    "pets_vars = pets.columns.tolist()\n",
    "adopt = ['AdoptionSpeed']\n",
    "X=[i for i in pets_vars if i not in adopt]\n",
    "\n",
    "os_data_X = pd.DataFrame(data=pets[X],columns=X )\n",
    "os_data_y= pd.DataFrame(data=pets[adopt],columns=adopt)\n",
    "\n",
    "logreg = LogisticRegression()\n",
    "rfe = RFE(logreg)\n",
    "rfe = rfe.fit(pets[X], pets[adopt].values.ravel())"
   ]
  },
  {
   "cell_type": "code",
   "execution_count": null,
   "metadata": {},
   "outputs": [],
   "source": [
    "print(rfe.support_)\n",
    "print(rfe.ranking_)"
   ]
  },
  {
   "cell_type": "code",
   "execution_count": null,
   "metadata": {},
   "outputs": [],
   "source": [
    "new_X = []\n",
    "for i in range(0,len(X)):\n",
    "    if str(rfe.support_[i]) is not 'False':\n",
    "        new_X.append(str(X[i]))\n",
    "new_X"
   ]
  },
  {
   "cell_type": "code",
   "execution_count": null,
   "metadata": {},
   "outputs": [],
   "source": [
    "y = pets[adopt]\n",
    "new_XX = np.asarray(pets[new_X])\n",
    "test_X = np.asarray(pets2[new_X])"
   ]
  },
  {
   "cell_type": "code",
   "execution_count": null,
   "metadata": {},
   "outputs": [],
   "source": [
    "k=find_weights(pets)"
   ]
  },
  {
   "cell_type": "code",
   "execution_count": null,
   "metadata": {},
   "outputs": [],
   "source": [
    "model = XGBClassifier(sample_weight = k)\n",
    "model.fit(new_XX,y)\n",
    "pred_y = model.predict(test_X)\n",
    "\n",
    "pred_y = np.round(pred_y)\n",
    "pred_y = pred_y.astype(int)"
   ]
  },
  {
   "cell_type": "code",
   "execution_count": null,
   "metadata": {},
   "outputs": [],
   "source": [
    "#for i in range(0,len(y_pred)-1):\n",
    "#    print(pets3.PetID[i], int(y_pred[i]))"
   ]
  },
  {
   "cell_type": "code",
   "execution_count": null,
   "metadata": {},
   "outputs": [],
   "source": [
    "df = {'PetID': petID, 'AdoptionSpeed': y_pred}\n",
    "df = pd.DataFrame(df)\n",
    "df.AdoptionSpeed = df.AdoptionSpeed.astype('int32')"
   ]
  },
  {
   "cell_type": "code",
   "execution_count": null,
   "metadata": {},
   "outputs": [],
   "source": [
    "df.to_csv('submission.csv', index = False)"
   ]
  }
 ],
 "metadata": {
  "kernelspec": {
   "display_name": "Python 3",
   "language": "python",
   "name": "python3"
  },
  "language_info": {
   "codemirror_mode": {
    "name": "ipython",
    "version": 3
   },
   "file_extension": ".py",
   "mimetype": "text/x-python",
   "name": "python",
   "nbconvert_exporter": "python",
   "pygments_lexer": "ipython3",
   "version": "3.6.5"
  }
 },
 "nbformat": 4,
 "nbformat_minor": 2
}
