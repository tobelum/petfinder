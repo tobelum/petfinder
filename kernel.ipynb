{
  "cells": [
    {
      "metadata": {
        "_uuid": "8f2839f25d086af736a60e9eeb907d3b93b6e0e5",
        "_cell_guid": "b1076dfc-b9ad-4769-8c92-a6c4dae69d19",
        "trusted": true,
        "scrolled": true
      },
      "cell_type": "code",
      "source": "# This Python 3 environment comes with many helpful analytics libraries installed\n# It is defined by the kaggle/python docker image: https://github.com/kaggle/docker-python\n# For example, here's several helpful packages to load in \n\nimport numpy as np # linear algebra\nimport pandas as pd # data processing, CSV file I/O (e.g. pd.read_csv)\n\n# Input data files are available in the \"../input/\" directory.\n# For example, running this (by clicking run or pressing Shift+Enter) will list the files in the input directory\n\nimport os\nprint(os.listdir(\"../input\"))\ntrain_data = pd.read_csv(\"../input/train/train.csv\")\ntest_data = pd.read_csv(\"../input/test/test.csv\")\n\n# Any results you write to the current directory are saved as output.",
      "execution_count": null,
      "outputs": []
    },
    {
      "metadata": {
        "_cell_guid": "79c7e3d0-c299-4dcb-8224-4455121ee9b0",
        "_uuid": "d629ff2d2480ee46fbb7e2d37f6b5fab8052498a",
        "trusted": true
      },
      "cell_type": "code",
      "source": "train_data.describe()\n#how is age 255? outlier\n#what about max fee? 3000?\n#count is equal across all columns, that means no missing values\nlist(test_data)",
      "execution_count": null,
      "outputs": []
    },
    {
      "metadata": {
        "trusted": true,
        "_uuid": "22aa402be263c1ee19ddd55a2c9d9cc1f7f665d9"
      },
      "cell_type": "code",
      "source": "#features to consider: number of dogs in image, age, breed, mixed breed?, quantity, fee, state\n#(definitely image is part but thats a separate analysis)\n\nboxplot=train_data.boxplot(column='Age')\nboxplot1=train_data.boxplot(column='Quantity')\n#to remove outliers for age\n#train_age_out = train_data[~((train_data < (Q1 - 1.5 * IQR)) |(train_data > (Q3 + 1.5 * IQR))).any(axis=1)]\n#train_age_out \n",
      "execution_count": null,
      "outputs": []
    },
    {
      "metadata": {
        "trusted": true,
        "scrolled": true,
        "_uuid": "ff66e45349cfb0f4ba73c29bcf11ef2190531aa2"
      },
      "cell_type": "code",
      "source": "# dropping ALL duplicate values \ntrain_data.drop_duplicates(subset =\"PetID\", \n                     keep = False, inplace = True) \ntrain_data.describe()",
      "execution_count": null,
      "outputs": []
    },
    {
      "metadata": {
        "trusted": true,
        "_uuid": "ea7bf1540c7e0a72dc3e16c11320bc44210d56da"
      },
      "cell_type": "code",
      "source": "from sklearn.model_selection import train_test_split\n\ny = train_data.AdoptionSpeed\nfeatures = ['Age','Breed1','Breed2','Fee']\nX = train_data[features]\n\n# split data into training and validation data, for both features and target\n# The split is based on a random number generator. Supplying a numeric value to\n# the random_state argument guarantees we get the same split every time we\n# run this script.\ntrain_X, val_X, train_y, val_y = train_test_split(X, y, random_state = 0)\n#print(train_X, val_X, train_y, val_y)",
      "execution_count": null,
      "outputs": []
    },
    {
      "metadata": {
        "trusted": true,
        "_uuid": "364dc567eb100fd1a2aac437e1551c30897626ae"
      },
      "cell_type": "code",
      "source": "from sklearn.metrics import mean_absolute_error\nfrom sklearn.tree import DecisionTreeRegressor\n\ndef get_mae(max_leaf_nodes, train_X=train_X, val_X=val_X, train_y=train_y, val_y=val_y):\n    model = DecisionTreeRegressor(max_leaf_nodes=max_leaf_nodes, random_state=0)\n    model.fit(train_X, train_y)\n    preds_val = model.predict(val_X)\n    mae = mean_absolute_error(val_y, preds_val)\n    return(mae)",
      "execution_count": null,
      "outputs": []
    },
    {
      "metadata": {
        "trusted": true,
        "_uuid": "416583a78fddde8ee21b6f6af27eb5c17120a12c"
      },
      "cell_type": "code",
      "source": "# compare MAE with differing values of max_leaf_nodes\nfor max_leaf_nodes in [30,36,40]:\n    my_mae = get_mae(max_leaf_nodes)\n    print(max_leaf_nodes, my_mae)",
      "execution_count": null,
      "outputs": []
    },
    {
      "metadata": {
        "trusted": true,
        "_uuid": "5efe7636b4da78cc1e691958fb2f4e47b7a55b5d"
      },
      "cell_type": "code",
      "source": "#predict\nimport math\nmodel = DecisionTreeRegressor(max_leaf_nodes=36, random_state=0)\nmodel.fit(train_X, train_y)\n\ntest_predictions = model.predict(test_data[features])\ntest_predictions = np.round(test_predictions)\ntest_predictions = test_predictions.astype(int)\n\nprediction_df = pd.DataFrame({'PetID' : test_data['PetID'],\n                              'AdoptionSpeed' : test_predictions})\nprediction_df.head()\n#est_predictions\n\nprediction_df.to_csv('submission.csv', index=False)",
      "execution_count": null,
      "outputs": []
    }
  ],
  "metadata": {
    "kernelspec": {
      "display_name": "Python 3",
      "language": "python",
      "name": "python3"
    },
    "language_info": {
      "name": "python",
      "version": "3.6.6",
      "mimetype": "text/x-python",
      "codemirror_mode": {
        "name": "ipython",
        "version": 3
      },
      "pygments_lexer": "ipython3",
      "nbconvert_exporter": "python",
      "file_extension": ".py"
    }
  },
  "nbformat": 4,
  "nbformat_minor": 1
}