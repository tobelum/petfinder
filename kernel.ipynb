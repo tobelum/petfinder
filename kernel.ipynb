{
  "cells": [
    {
      "metadata": {
        "_uuid": "8f2839f25d086af736a60e9eeb907d3b93b6e0e5",
        "_cell_guid": "b1076dfc-b9ad-4769-8c92-a6c4dae69d19",
        "trusted": true,
        "scrolled": true
      },
      "cell_type": "code",
      "source": "# This Python 3 environment comes with many helpful analytics libraries installed\n# It is defined by the kaggle/python docker image: https://github.com/kaggle/docker-python\n# For example, here's several helpful packages to load in \n\nimport numpy as np # linear algebra\nimport pandas as pd # data processing, CSV file I/O (e.g. pd.read_csv)\n\n# Input data files are available in the \"../input/\" directory.\n# For example, running this (by clicking run or pressing Shift+Enter) will list the files in the input directory\n\nimport os\nprint(os.listdir(\"../input/petfinder-adoption-prediction\"))\ntrain_data = pd.read_csv(\"../input/petfinder-adoption-prediction/train/train.csv\")\ntest_data = pd.read_csv(\"../input/petfinder-adoption-prediction/test/test.csv\")\n\n# Any results you write to the current directory are saved as output.",
      "execution_count": 140,
      "outputs": [
        {
          "output_type": "stream",
          "text": "['train', 'test', 'breed_labels.csv', 'train_sentiment', 'test_sentiment', 'test_metadata', 'train_images', 'train_metadata', 'state_labels.csv', 'color_labels.csv', 'test_images']\n",
          "name": "stdout"
        }
      ]
    },
    {
      "metadata": {
        "_cell_guid": "79c7e3d0-c299-4dcb-8224-4455121ee9b0",
        "_uuid": "d629ff2d2480ee46fbb7e2d37f6b5fab8052498a",
        "trusted": true
      },
      "cell_type": "code",
      "source": "train_data.describe()\n#how is age 255? outlier\n#what about max fee? 3000?\n#count is equal across all columns, that means no missing values\n#list(test_data)",
      "execution_count": 141,
      "outputs": [
        {
          "output_type": "execute_result",
          "execution_count": 141,
          "data": {
            "text/plain": "               Type           Age      ...            PhotoAmt  AdoptionSpeed\ncount  14993.000000  14993.000000      ...        14993.000000   14993.000000\nmean       1.457614     10.452078      ...            3.889215       2.516441\nstd        0.498217     18.155790      ...            3.487810       1.177265\nmin        1.000000      0.000000      ...            0.000000       0.000000\n25%        1.000000      2.000000      ...            2.000000       2.000000\n50%        1.000000      3.000000      ...            3.000000       2.000000\n75%        2.000000     12.000000      ...            5.000000       4.000000\nmax        2.000000    255.000000      ...           30.000000       4.000000\n\n[8 rows x 20 columns]",
            "text/html": "<div>\n<style scoped>\n    .dataframe tbody tr th:only-of-type {\n        vertical-align: middle;\n    }\n\n    .dataframe tbody tr th {\n        vertical-align: top;\n    }\n\n    .dataframe thead th {\n        text-align: right;\n    }\n</style>\n<table border=\"1\" class=\"dataframe\">\n  <thead>\n    <tr style=\"text-align: right;\">\n      <th></th>\n      <th>Type</th>\n      <th>Age</th>\n      <th>Breed1</th>\n      <th>Breed2</th>\n      <th>Gender</th>\n      <th>Color1</th>\n      <th>Color2</th>\n      <th>Color3</th>\n      <th>MaturitySize</th>\n      <th>FurLength</th>\n      <th>Vaccinated</th>\n      <th>Dewormed</th>\n      <th>Sterilized</th>\n      <th>Health</th>\n      <th>Quantity</th>\n      <th>Fee</th>\n      <th>State</th>\n      <th>VideoAmt</th>\n      <th>PhotoAmt</th>\n      <th>AdoptionSpeed</th>\n    </tr>\n  </thead>\n  <tbody>\n    <tr>\n      <th>count</th>\n      <td>14993.000000</td>\n      <td>14993.000000</td>\n      <td>14993.000000</td>\n      <td>14993.000000</td>\n      <td>14993.000000</td>\n      <td>14993.000000</td>\n      <td>14993.000000</td>\n      <td>14993.000000</td>\n      <td>14993.000000</td>\n      <td>14993.000000</td>\n      <td>14993.000000</td>\n      <td>14993.000000</td>\n      <td>14993.000000</td>\n      <td>14993.000000</td>\n      <td>14993.000000</td>\n      <td>14993.000000</td>\n      <td>14993.000000</td>\n      <td>14993.000000</td>\n      <td>14993.000000</td>\n      <td>14993.000000</td>\n    </tr>\n    <tr>\n      <th>mean</th>\n      <td>1.457614</td>\n      <td>10.452078</td>\n      <td>265.272594</td>\n      <td>74.009738</td>\n      <td>1.776162</td>\n      <td>2.234176</td>\n      <td>3.222837</td>\n      <td>1.882012</td>\n      <td>1.862002</td>\n      <td>1.467485</td>\n      <td>1.731208</td>\n      <td>1.558727</td>\n      <td>1.914227</td>\n      <td>1.036617</td>\n      <td>1.576069</td>\n      <td>21.259988</td>\n      <td>41346.028347</td>\n      <td>0.056760</td>\n      <td>3.889215</td>\n      <td>2.516441</td>\n    </tr>\n    <tr>\n      <th>std</th>\n      <td>0.498217</td>\n      <td>18.155790</td>\n      <td>60.056818</td>\n      <td>123.011575</td>\n      <td>0.681592</td>\n      <td>1.745225</td>\n      <td>2.742562</td>\n      <td>2.984086</td>\n      <td>0.547959</td>\n      <td>0.599070</td>\n      <td>0.667649</td>\n      <td>0.695817</td>\n      <td>0.566172</td>\n      <td>0.199535</td>\n      <td>1.472477</td>\n      <td>78.414548</td>\n      <td>32.444153</td>\n      <td>0.346185</td>\n      <td>3.487810</td>\n      <td>1.177265</td>\n    </tr>\n    <tr>\n      <th>min</th>\n      <td>1.000000</td>\n      <td>0.000000</td>\n      <td>0.000000</td>\n      <td>0.000000</td>\n      <td>1.000000</td>\n      <td>1.000000</td>\n      <td>0.000000</td>\n      <td>0.000000</td>\n      <td>1.000000</td>\n      <td>1.000000</td>\n      <td>1.000000</td>\n      <td>1.000000</td>\n      <td>1.000000</td>\n      <td>1.000000</td>\n      <td>1.000000</td>\n      <td>0.000000</td>\n      <td>41324.000000</td>\n      <td>0.000000</td>\n      <td>0.000000</td>\n      <td>0.000000</td>\n    </tr>\n    <tr>\n      <th>25%</th>\n      <td>1.000000</td>\n      <td>2.000000</td>\n      <td>265.000000</td>\n      <td>0.000000</td>\n      <td>1.000000</td>\n      <td>1.000000</td>\n      <td>0.000000</td>\n      <td>0.000000</td>\n      <td>2.000000</td>\n      <td>1.000000</td>\n      <td>1.000000</td>\n      <td>1.000000</td>\n      <td>2.000000</td>\n      <td>1.000000</td>\n      <td>1.000000</td>\n      <td>0.000000</td>\n      <td>41326.000000</td>\n      <td>0.000000</td>\n      <td>2.000000</td>\n      <td>2.000000</td>\n    </tr>\n    <tr>\n      <th>50%</th>\n      <td>1.000000</td>\n      <td>3.000000</td>\n      <td>266.000000</td>\n      <td>0.000000</td>\n      <td>2.000000</td>\n      <td>2.000000</td>\n      <td>2.000000</td>\n      <td>0.000000</td>\n      <td>2.000000</td>\n      <td>1.000000</td>\n      <td>2.000000</td>\n      <td>1.000000</td>\n      <td>2.000000</td>\n      <td>1.000000</td>\n      <td>1.000000</td>\n      <td>0.000000</td>\n      <td>41326.000000</td>\n      <td>0.000000</td>\n      <td>3.000000</td>\n      <td>2.000000</td>\n    </tr>\n    <tr>\n      <th>75%</th>\n      <td>2.000000</td>\n      <td>12.000000</td>\n      <td>307.000000</td>\n      <td>179.000000</td>\n      <td>2.000000</td>\n      <td>3.000000</td>\n      <td>6.000000</td>\n      <td>5.000000</td>\n      <td>2.000000</td>\n      <td>2.000000</td>\n      <td>2.000000</td>\n      <td>2.000000</td>\n      <td>2.000000</td>\n      <td>1.000000</td>\n      <td>1.000000</td>\n      <td>0.000000</td>\n      <td>41401.000000</td>\n      <td>0.000000</td>\n      <td>5.000000</td>\n      <td>4.000000</td>\n    </tr>\n    <tr>\n      <th>max</th>\n      <td>2.000000</td>\n      <td>255.000000</td>\n      <td>307.000000</td>\n      <td>307.000000</td>\n      <td>3.000000</td>\n      <td>7.000000</td>\n      <td>7.000000</td>\n      <td>7.000000</td>\n      <td>4.000000</td>\n      <td>3.000000</td>\n      <td>3.000000</td>\n      <td>3.000000</td>\n      <td>3.000000</td>\n      <td>3.000000</td>\n      <td>20.000000</td>\n      <td>3000.000000</td>\n      <td>41415.000000</td>\n      <td>8.000000</td>\n      <td>30.000000</td>\n      <td>4.000000</td>\n    </tr>\n  </tbody>\n</table>\n</div>"
          },
          "metadata": {}
        }
      ]
    },
    {
      "metadata": {
        "trusted": true,
        "_uuid": "22aa402be263c1ee19ddd55a2c9d9cc1f7f665d9"
      },
      "cell_type": "code",
      "source": "#features to consider: number of dogs in image, age, breed, mixed breed?, quantity, fee, state\n#(definitely image is part but thats a separate analysis)\n\nboxplot=train_data.boxplot(column='Age')\nboxplot1=train_data.boxplot(column='Quantity')\n#to remove outliers for age\n#train_age_out = train_data[~((train_data < (Q1 - 1.5 * IQR)) |(train_data > (Q3 + 1.5 * IQR))).any(axis=1)]\n#train_age_out \n",
      "execution_count": 142,
      "outputs": [
        {
          "output_type": "display_data",
          "data": {
            "text/plain": "<Figure size 432x288 with 1 Axes>",
            "image/png": "[encoded data removed]"
          },
          "metadata": {}
        }
      ]
    },
    {
      "metadata": {
        "trusted": true,
        "scrolled": true,
        "_uuid": "ff66e45349cfb0f4ba73c29bcf11ef2190531aa2"
      },
      "cell_type": "code",
      "source": "# dropping ALL duplicate values \ntrain_data.drop_duplicates(subset =\"PetID\", \n                     keep = False, inplace = True) \ntrain_data.describe()",
      "execution_count": 143,
      "outputs": [
        {
          "output_type": "execute_result",
          "execution_count": 143,
          "data": {
            "text/plain": "               Type           Age      ...            PhotoAmt  AdoptionSpeed\ncount  14993.000000  14993.000000      ...        14993.000000   14993.000000\nmean       1.457614     10.452078      ...            3.889215       2.516441\nstd        0.498217     18.155790      ...            3.487810       1.177265\nmin        1.000000      0.000000      ...            0.000000       0.000000\n25%        1.000000      2.000000      ...            2.000000       2.000000\n50%        1.000000      3.000000      ...            3.000000       2.000000\n75%        2.000000     12.000000      ...            5.000000       4.000000\nmax        2.000000    255.000000      ...           30.000000       4.000000\n\n[8 rows x 20 columns]",
            "text/html": "<div>\n<style scoped>\n    .dataframe tbody tr th:only-of-type {\n        vertical-align: middle;\n    }\n\n    .dataframe tbody tr th {\n        vertical-align: top;\n    }\n\n    .dataframe thead th {\n        text-align: right;\n    }\n</style>\n<table border=\"1\" class=\"dataframe\">\n  <thead>\n    <tr style=\"text-align: right;\">\n      <th></th>\n      <th>Type</th>\n      <th>Age</th>\n      <th>Breed1</th>\n      <th>Breed2</th>\n      <th>Gender</th>\n      <th>Color1</th>\n      <th>Color2</th>\n      <th>Color3</th>\n      <th>MaturitySize</th>\n      <th>FurLength</th>\n      <th>Vaccinated</th>\n      <th>Dewormed</th>\n      <th>Sterilized</th>\n      <th>Health</th>\n      <th>Quantity</th>\n      <th>Fee</th>\n      <th>State</th>\n      <th>VideoAmt</th>\n      <th>PhotoAmt</th>\n      <th>AdoptionSpeed</th>\n    </tr>\n  </thead>\n  <tbody>\n    <tr>\n      <th>count</th>\n      <td>14993.000000</td>\n      <td>14993.000000</td>\n      <td>14993.000000</td>\n      <td>14993.000000</td>\n      <td>14993.000000</td>\n      <td>14993.000000</td>\n      <td>14993.000000</td>\n      <td>14993.000000</td>\n      <td>14993.000000</td>\n      <td>14993.000000</td>\n      <td>14993.000000</td>\n      <td>14993.000000</td>\n      <td>14993.000000</td>\n      <td>14993.000000</td>\n      <td>14993.000000</td>\n      <td>14993.000000</td>\n      <td>14993.000000</td>\n      <td>14993.000000</td>\n      <td>14993.000000</td>\n      <td>14993.000000</td>\n    </tr>\n    <tr>\n      <th>mean</th>\n      <td>1.457614</td>\n      <td>10.452078</td>\n      <td>265.272594</td>\n      <td>74.009738</td>\n      <td>1.776162</td>\n      <td>2.234176</td>\n      <td>3.222837</td>\n      <td>1.882012</td>\n      <td>1.862002</td>\n      <td>1.467485</td>\n      <td>1.731208</td>\n      <td>1.558727</td>\n      <td>1.914227</td>\n      <td>1.036617</td>\n      <td>1.576069</td>\n      <td>21.259988</td>\n      <td>41346.028347</td>\n      <td>0.056760</td>\n      <td>3.889215</td>\n      <td>2.516441</td>\n    </tr>\n    <tr>\n      <th>std</th>\n      <td>0.498217</td>\n      <td>18.155790</td>\n      <td>60.056818</td>\n      <td>123.011575</td>\n      <td>0.681592</td>\n      <td>1.745225</td>\n      <td>2.742562</td>\n      <td>2.984086</td>\n      <td>0.547959</td>\n      <td>0.599070</td>\n      <td>0.667649</td>\n      <td>0.695817</td>\n      <td>0.566172</td>\n      <td>0.199535</td>\n      <td>1.472477</td>\n      <td>78.414548</td>\n      <td>32.444153</td>\n      <td>0.346185</td>\n      <td>3.487810</td>\n      <td>1.177265</td>\n    </tr>\n    <tr>\n      <th>min</th>\n      <td>1.000000</td>\n      <td>0.000000</td>\n      <td>0.000000</td>\n      <td>0.000000</td>\n      <td>1.000000</td>\n      <td>1.000000</td>\n      <td>0.000000</td>\n      <td>0.000000</td>\n      <td>1.000000</td>\n      <td>1.000000</td>\n      <td>1.000000</td>\n      <td>1.000000</td>\n      <td>1.000000</td>\n      <td>1.000000</td>\n      <td>1.000000</td>\n      <td>0.000000</td>\n      <td>41324.000000</td>\n      <td>0.000000</td>\n      <td>0.000000</td>\n      <td>0.000000</td>\n    </tr>\n    <tr>\n      <th>25%</th>\n      <td>1.000000</td>\n      <td>2.000000</td>\n      <td>265.000000</td>\n      <td>0.000000</td>\n      <td>1.000000</td>\n      <td>1.000000</td>\n      <td>0.000000</td>\n      <td>0.000000</td>\n      <td>2.000000</td>\n      <td>1.000000</td>\n      <td>1.000000</td>\n      <td>1.000000</td>\n      <td>2.000000</td>\n      <td>1.000000</td>\n      <td>1.000000</td>\n      <td>0.000000</td>\n      <td>41326.000000</td>\n      <td>0.000000</td>\n      <td>2.000000</td>\n      <td>2.000000</td>\n    </tr>\n    <tr>\n      <th>50%</th>\n      <td>1.000000</td>\n      <td>3.000000</td>\n      <td>266.000000</td>\n      <td>0.000000</td>\n      <td>2.000000</td>\n      <td>2.000000</td>\n      <td>2.000000</td>\n      <td>0.000000</td>\n      <td>2.000000</td>\n      <td>1.000000</td>\n      <td>2.000000</td>\n      <td>1.000000</td>\n      <td>2.000000</td>\n      <td>1.000000</td>\n      <td>1.000000</td>\n      <td>0.000000</td>\n      <td>41326.000000</td>\n      <td>0.000000</td>\n      <td>3.000000</td>\n      <td>2.000000</td>\n    </tr>\n    <tr>\n      <th>75%</th>\n      <td>2.000000</td>\n      <td>12.000000</td>\n      <td>307.000000</td>\n      <td>179.000000</td>\n      <td>2.000000</td>\n      <td>3.000000</td>\n      <td>6.000000</td>\n      <td>5.000000</td>\n      <td>2.000000</td>\n      <td>2.000000</td>\n      <td>2.000000</td>\n      <td>2.000000</td>\n      <td>2.000000</td>\n      <td>1.000000</td>\n      <td>1.000000</td>\n      <td>0.000000</td>\n      <td>41401.000000</td>\n      <td>0.000000</td>\n      <td>5.000000</td>\n      <td>4.000000</td>\n    </tr>\n    <tr>\n      <th>max</th>\n      <td>2.000000</td>\n      <td>255.000000</td>\n      <td>307.000000</td>\n      <td>307.000000</td>\n      <td>3.000000</td>\n      <td>7.000000</td>\n      <td>7.000000</td>\n      <td>7.000000</td>\n      <td>4.000000</td>\n      <td>3.000000</td>\n      <td>3.000000</td>\n      <td>3.000000</td>\n      <td>3.000000</td>\n      <td>3.000000</td>\n      <td>20.000000</td>\n      <td>3000.000000</td>\n      <td>41415.000000</td>\n      <td>8.000000</td>\n      <td>30.000000</td>\n      <td>4.000000</td>\n    </tr>\n  </tbody>\n</table>\n</div>"
          },
          "metadata": {}
        }
      ]
    },
    {
      "metadata": {
        "trusted": true,
        "_uuid": "734d7f4c5ae89e6174fb51456af750cea4176874"
      },
      "cell_type": "code",
      "source": "##choosing the right features so as to reduce risk of overfitting and noise\n#Univariate Selection\nfrom sklearn.feature_selection import SelectKBest\nfrom sklearn.feature_selection import chi2\n\nfeatures = ['Type','Age','Breed1','Breed2','Gender','Color1','Color2','Color3','MaturitySize','FurLength','Vaccinated','Dewormed','Sterilized','Health','Quantity','Fee','State','VideoAmt','PhotoAmt']\nX = train_data[features]  #independent columns\ny = train_data.iloc[:,-1]    #target column i.e price range\n\n# Feature extraction\ntest = SelectKBest(score_func=chi2, k=6)\nfit = test.fit(X, y)\n\ndfscores = pd.DataFrame(fit.scores_)\ndfcolumns = pd.DataFrame(X.columns)\n\n# Summarize scores\nnp.set_printoptions(precision=3)\nprint(fit.scores_)\n#concat two dataframes for better visualization \nfeatureScores = pd.concat([dfcolumns,dfscores],axis=1)\nfeatureScores.columns = ['Specs','Score']  #naming the dataframe columns\nprint(featureScores.nlargest(6,'Score'))  #print 10 best features\n\n#features = fit.transform(X)\n# Summarize selected features\n#print(features[0:5,:])",
      "execution_count": 144,
      "outputs": [
        {
          "output_type": "stream",
          "text": "[2.761e+01 6.338e+03 2.991e+03 6.714e+03 1.407e+01 4.743e+01 5.912e+01\n 2.518e+01 6.262e+00 3.507e+01 1.708e+01 1.507e+01 2.018e+01 8.488e-01\n 9.974e+01 2.678e+02 1.059e+00 3.366e+01 8.872e+02]\n       Specs        Score\n3     Breed2  6714.057603\n1        Age  6338.200463\n2     Breed1  2991.321460\n18  PhotoAmt   887.185508\n15       Fee   267.807370\n14  Quantity    99.739520\n",
          "name": "stdout"
        }
      ]
    },
    {
      "metadata": {
        "trusted": true,
        "_uuid": "ea7bf1540c7e0a72dc3e16c11320bc44210d56da"
      },
      "cell_type": "code",
      "source": "#using selected features to train the data\n#split data for training and validation\nfrom sklearn.model_selection import train_test_split\n\ny = train_data.AdoptionSpeed\nfeatures=['Breed2','Age','Breed1','PhotoAmt','Fee']\nX = train_data[features]\n\n# split data into training and validation data, for both features and target\n# The split is based on a random number generator. Supplying a numeric value to\n# the random_state argument guarantees we get the same split every time we\n# run this script.\ntrain_X, val_X, train_y, val_y = train_test_split(X, y, random_state = 0)\n#print(train_X, val_X, train_y, val_y)",
      "execution_count": 145,
      "outputs": []
    },
    {
      "metadata": {
        "trusted": true,
        "_uuid": "364dc567eb100fd1a2aac437e1551c30897626ae"
      },
      "cell_type": "code",
      "source": "from sklearn.metrics import mean_absolute_error\nfrom sklearn.tree import DecisionTreeRegressor\n\ndef get_mae(max_leaf_nodes, train_X=train_X, val_X=val_X, train_y=train_y, val_y=val_y):\n    model = DecisionTreeRegressor(max_leaf_nodes=max_leaf_nodes, random_state=0)\n    model.fit(train_X, train_y)\n    preds_val = model.predict(val_X)\n    mae = mean_absolute_error(val_y, preds_val)\n    return(mae)",
      "execution_count": 147,
      "outputs": []
    },
    {
      "metadata": {
        "trusted": true,
        "_uuid": "416583a78fddde8ee21b6f6af27eb5c17120a12c"
      },
      "cell_type": "code",
      "source": "# compare MAE with differing values of max_leaf_nodes\nfor max_leaf_nodes in [17,18,19,20]:\n    my_mae = get_mae(max_leaf_nodes)\n    print(max_leaf_nodes, my_mae)",
      "execution_count": 148,
      "outputs": [
        {
          "output_type": "stream",
          "text": "17 0.9317795294605058\n18 0.9315136490172379\n19 0.9322689625630127\n20 0.9338471639635324\n",
          "name": "stdout"
        }
      ]
    },
    {
      "metadata": {
        "trusted": true,
        "_uuid": "3d2fc1f3b3e085b4e3143aa5037439800bc1e53a"
      },
      "cell_type": "code",
      "source": "#predict\nimport math\nfrom sklearn.metrics import accuracy_score\n\n# ----- xgboost ------------\n# install xgboost\n# 'pip install xgboost' or https://stackoverflow.com/questions/33749735/how-to-install-xgboost-package-in-python-windows-platform/39811079#39811079\n\nfrom xgboost import XGBClassifier\n\nmodel = XGBClassifier()\nmodel.fit(train_X, train_y)\npred_y = model.predict(val_X)\n\npred_y = np.round(pred_y)\npred_y = pred_y.astype(int)\n#print(len(test_predictions),len(val_y))\n\n##checking accuracy\naccuracy = accuracy_score(val_y,pred_y)*100\n\nprint(accuracy)",
      "execution_count": 149,
      "outputs": [
        {
          "output_type": "stream",
          "text": "38.83702320618831\n",
          "name": "stdout"
        }
      ]
    },
    {
      "metadata": {
        "trusted": true,
        "_uuid": "5efe7636b4da78cc1e691958fb2f4e47b7a55b5d"
      },
      "cell_type": "code",
      "source": "#predict with test data\n\ntest_predictions = model.predict(test_data[features])\ntest_predictions = np.round(test_predictions)\ntest_predictions = test_predictions.astype(int)\n\nprediction_df = pd.DataFrame({'PetID' : test_data['PetID'],\n                              'AdoptionSpeed' : test_predictions})\nprediction_df.head()\n#test_predictions\n\nprediction_df.to_csv('submission.csv', index=False)",
      "execution_count": 151,
      "outputs": []
    }
  ],
  "metadata": {
    "kernelspec": {
      "display_name": "Python 3",
      "language": "python",
      "name": "python3"
    },
    "language_info": {
      "name": "python",
      "version": "3.6.6",
      "mimetype": "text/x-python",
      "codemirror_mode": {
        "name": "ipython",
        "version": 3
      },
      "pygments_lexer": "ipython3",
      "nbconvert_exporter": "python",
      "file_extension": ".py"
    }
  },
  "nbformat": 4,
  "nbformat_minor": 1
}